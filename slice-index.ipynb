{
 "cells": [
  {
   "cell_type": "code",
   "execution_count": 1,
   "id": "aa02fb18-49bb-4e64-9aca-5381baa3b51a",
   "metadata": {},
   "outputs": [
    {
     "data": {
      "text/plain": [
       "9"
      ]
     },
     "execution_count": 1,
     "metadata": {},
     "output_type": "execute_result"
    }
   ],
   "source": [
    "my_numbers = (4, 5, 3, 9)\n",
    "my_numbers[-1]"
   ]
  },
  {
   "cell_type": "code",
   "execution_count": 2,
   "id": "99866d67-26e9-4a6b-bdf5-741f687645be",
   "metadata": {},
   "outputs": [
    {
     "data": {
      "text/plain": [
       "5"
      ]
     },
     "execution_count": 2,
     "metadata": {},
     "output_type": "execute_result"
    }
   ],
   "source": [
    "my_numbers[-3]"
   ]
  },
  {
   "cell_type": "code",
   "execution_count": 3,
   "id": "5d27e554-207f-4587-8302-dd4397d3ecf3",
   "metadata": {},
   "outputs": [
    {
     "data": {
      "text/plain": [
       "(3, 9)"
      ]
     },
     "execution_count": 3,
     "metadata": {},
     "output_type": "execute_result"
    }
   ],
   "source": [
    "my_numbers[2:5]"
   ]
  },
  {
   "cell_type": "code",
   "execution_count": 4,
   "id": "9f22669e-eb21-4f8f-b6d1-6ed96b783b0e",
   "metadata": {},
   "outputs": [
    {
     "data": {
      "text/plain": [
       "(2, 3, 5)"
      ]
     },
     "execution_count": 4,
     "metadata": {},
     "output_type": "execute_result"
    }
   ],
   "source": [
    "my_numbers = (1,1,2,3,5,8,13,21)\n",
    "my_numbers[2:5]"
   ]
  },
  {
   "cell_type": "code",
   "execution_count": 5,
   "id": "16c3a4d6-a314-4c68-816e-171d83dd1b33",
   "metadata": {},
   "outputs": [
    {
     "data": {
      "text/plain": [
       "(1, 1, 2)"
      ]
     },
     "execution_count": 5,
     "metadata": {},
     "output_type": "execute_result"
    }
   ],
   "source": [
    "my_numbers[:3]"
   ]
  },
  {
   "cell_type": "code",
   "execution_count": 6,
   "id": "f68f6696-c789-45f4-ab06-a5ab5f67d1c6",
   "metadata": {},
   "outputs": [
    {
     "data": {
      "text/plain": [
       "(3, 5, 8, 13, 21)"
      ]
     },
     "execution_count": 6,
     "metadata": {},
     "output_type": "execute_result"
    }
   ],
   "source": [
    "my_numbers[3:]"
   ]
  },
  {
   "cell_type": "code",
   "execution_count": 7,
   "id": "bf1742d4-dee4-46ea-9084-c752dc5c84ec",
   "metadata": {},
   "outputs": [
    {
     "data": {
      "text/plain": [
       "(1, 5)"
      ]
     },
     "execution_count": 7,
     "metadata": {},
     "output_type": "execute_result"
    }
   ],
   "source": [
    "my_numbers[1:7:3]"
   ]
  },
  {
   "cell_type": "code",
   "execution_count": 8,
   "id": "78e13819-e72e-486e-8e4d-7b3fa4a257cd",
   "metadata": {},
   "outputs": [
    {
     "data": {
      "text/plain": [
       "(1, 3, 8)"
      ]
     },
     "execution_count": 8,
     "metadata": {},
     "output_type": "execute_result"
    }
   ],
   "source": [
    "my_numbers[1:7:2]"
   ]
  },
  {
   "cell_type": "code",
   "execution_count": 9,
   "id": "cb277d2d-1883-44cb-889b-219716baa328",
   "metadata": {},
   "outputs": [
    {
     "data": {
      "text/plain": [
       "(1, 8)"
      ]
     },
     "execution_count": 9,
     "metadata": {},
     "output_type": "execute_result"
    }
   ],
   "source": [
    "my_numbers[1:7:4]"
   ]
  },
  {
   "cell_type": "code",
   "execution_count": 10,
   "id": "56a2e024-2475-43ca-ba86-4efca566efec",
   "metadata": {},
   "outputs": [
    {
     "data": {
      "text/plain": [
       "(1, 3, 8)"
      ]
     },
     "execution_count": 10,
     "metadata": {},
     "output_type": "execute_result"
    }
   ],
   "source": [
    "interval = slice(1,7,2)\n",
    "my_numbers[interval]"
   ]
  },
  {
   "cell_type": "code",
   "execution_count": null,
   "id": "a64454e9-af7d-465a-ae3d-a7ba4f7c66fe",
   "metadata": {},
   "outputs": [],
   "source": []
  }
 ],
 "metadata": {
  "kernelspec": {
   "display_name": "Python 3 (ipykernel)",
   "language": "python",
   "name": "python3"
  },
  "language_info": {
   "codemirror_mode": {
    "name": "ipython",
    "version": 3
   },
   "file_extension": ".py",
   "mimetype": "text/x-python",
   "name": "python",
   "nbconvert_exporter": "python",
   "pygments_lexer": "ipython3",
   "version": "3.12.3"
  }
 },
 "nbformat": 4,
 "nbformat_minor": 5
}
