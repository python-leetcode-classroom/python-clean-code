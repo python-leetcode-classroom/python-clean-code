{
 "cells": [
  {
   "cell_type": "code",
   "execution_count": 1,
   "id": "30aa0c8a-ce9e-4817-bc80-89f37be201f3",
   "metadata": {},
   "outputs": [
    {
     "data": {
      "text/plain": [
       "1"
      ]
     },
     "execution_count": 1,
     "metadata": {},
     "output_type": "execute_result"
    }
   ],
   "source": [
    "from collections import defaultdict\n",
    "\n",
    "class CallCount:\n",
    "    def __init__(self):\n",
    "        self._counts = defaultdict(int)\n",
    "\n",
    "    def __call__(self, argument):\n",
    "        self._counts[argument] += 1\n",
    "        return self._counts[argument]\n",
    "\n",
    "cc = CallCount()\n",
    "cc(1)\n"
   ]
  },
  {
   "cell_type": "code",
   "execution_count": 2,
   "id": "90ef85ef-5bfb-4b36-abd0-1bcb0947e355",
   "metadata": {},
   "outputs": [
    {
     "data": {
      "text/plain": [
       "1"
      ]
     },
     "execution_count": 2,
     "metadata": {},
     "output_type": "execute_result"
    }
   ],
   "source": [
    "cc(2)"
   ]
  },
  {
   "cell_type": "code",
   "execution_count": 3,
   "id": "f405e59e-e4df-48b6-99cf-a66f5c6fb3da",
   "metadata": {},
   "outputs": [
    {
     "data": {
      "text/plain": [
       "2"
      ]
     },
     "execution_count": 3,
     "metadata": {},
     "output_type": "execute_result"
    }
   ],
   "source": [
    "cc(1)"
   ]
  },
  {
   "cell_type": "code",
   "execution_count": 4,
   "id": "eb3720a6-0ac6-4e14-aa93-39b54cf97970",
   "metadata": {},
   "outputs": [
    {
     "data": {
      "text/plain": [
       "3"
      ]
     },
     "execution_count": 4,
     "metadata": {},
     "output_type": "execute_result"
    }
   ],
   "source": [
    "cc(1)"
   ]
  },
  {
   "cell_type": "code",
   "execution_count": 5,
   "id": "6db3f404-4426-4073-ba98-2a1b4bd37fa1",
   "metadata": {},
   "outputs": [
    {
     "data": {
      "text/plain": [
       "1"
      ]
     },
     "execution_count": 5,
     "metadata": {},
     "output_type": "execute_result"
    }
   ],
   "source": [
    "cc(\"something\")"
   ]
  },
  {
   "cell_type": "code",
   "execution_count": 6,
   "id": "d91f0254-960e-41a7-b1c4-4a5d8e3c8a46",
   "metadata": {},
   "outputs": [
    {
     "data": {
      "text/plain": [
       "True"
      ]
     },
     "execution_count": 6,
     "metadata": {},
     "output_type": "execute_result"
    }
   ],
   "source": [
    "callable(cc)"
   ]
  },
  {
   "cell_type": "code",
   "execution_count": null,
   "id": "9e77048f-dff3-4868-9861-174505ce5d05",
   "metadata": {},
   "outputs": [],
   "source": []
  }
 ],
 "metadata": {
  "kernelspec": {
   "display_name": "Python 3 (ipykernel)",
   "language": "python",
   "name": "python3"
  },
  "language_info": {
   "codemirror_mode": {
    "name": "ipython",
    "version": 3
   },
   "file_extension": ".py",
   "mimetype": "text/x-python",
   "name": "python",
   "nbconvert_exporter": "python",
   "pygments_lexer": "ipython3",
   "version": "3.12.3"
  }
 },
 "nbformat": 4,
 "nbformat_minor": 5
}
