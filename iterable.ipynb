{
 "cells": [
  {
   "cell_type": "code",
   "execution_count": 1,
   "id": "79128d52-379f-4a47-8620-c1daa46cafdc",
   "metadata": {},
   "outputs": [
    {
     "name": "stdout",
     "output_type": "stream",
     "text": [
      "2018-01-01\n",
      "2018-01-02\n",
      "2018-01-03\n",
      "2018-01-04\n"
     ]
    }
   ],
   "source": [
    "from datetime import timedelta\n",
    "\n",
    "class DateRangeIterable:\n",
    "    \"\"\"An iterable that contains its own iterator object.\"\"\"\n",
    "\n",
    "    def __init__(self, start_date, end_date):\n",
    "        self.start_date = start_date\n",
    "        self.end_date = end_date\n",
    "        self._present_day = start_date\n",
    "\n",
    "    def __iter__(self):\n",
    "        return self\n",
    "\n",
    "    def __next__(self):\n",
    "        if self._present_day >= self.end_date:\n",
    "            raise StopIteration()\n",
    "        today = self._present_day\n",
    "        self._present_day += timedelta(days=1)\n",
    "        return today\n",
    "\n",
    "from datetime import date\n",
    "for day in DateRangeIterable(date(2018,1,1), date(2018, 1, 5)):\n",
    "    print(day)\n"
   ]
  },
  {
   "cell_type": "code",
   "execution_count": 2,
   "id": "02b8cc41-386b-4199-a4ce-d3e295f3e83f",
   "metadata": {},
   "outputs": [],
   "source": [
    "class DateRangeContainerIterable:\n",
    "    def __init__(self, start_date, end_date):\n",
    "        self.start_date = start_date\n",
    "        self.end_date = end_date\n",
    "\n",
    "    def __iter__(self):\n",
    "        current_day = self.start_date\n",
    "        while current_day < self.end_date:\n",
    "            yield current_day\n",
    "            current_day += timedelta(days=1)"
   ]
  },
  {
   "cell_type": "code",
   "execution_count": 3,
   "id": "d6fc1173-7e4f-4664-8c56-680b5d4ff1e7",
   "metadata": {},
   "outputs": [],
   "source": [
    "r1 = DateRangeContainerIterable(date(2018,1,1), date(2018,1,5))"
   ]
  },
  {
   "cell_type": "code",
   "execution_count": 4,
   "id": "cee58ef0-27c5-4804-81b1-5e21fe9efe1b",
   "metadata": {},
   "outputs": [
    {
     "data": {
      "text/plain": [
       "'2018-01-01, 2018-01-02, 2018-01-03, 2018-01-04'"
      ]
     },
     "execution_count": 4,
     "metadata": {},
     "output_type": "execute_result"
    }
   ],
   "source": [
    "\", \".join(map(str, r1))"
   ]
  },
  {
   "cell_type": "code",
   "execution_count": 5,
   "id": "a7003c53-6f96-45c3-9ebf-e173e9d9f28a",
   "metadata": {},
   "outputs": [
    {
     "data": {
      "text/plain": [
       "datetime.date(2018, 1, 4)"
      ]
     },
     "execution_count": 5,
     "metadata": {},
     "output_type": "execute_result"
    }
   ],
   "source": [
    "max(r1)"
   ]
  },
  {
   "cell_type": "code",
   "execution_count": 8,
   "id": "252c6bec-29c6-44d7-a029-24c061eaf2ed",
   "metadata": {},
   "outputs": [
    {
     "name": "stdout",
     "output_type": "stream",
     "text": [
      "2018-01-01\n",
      "2018-01-02\n",
      "2018-01-03\n",
      "2018-01-04\n"
     ]
    }
   ],
   "source": [
    "class DateRangeSequence:\n",
    "    def __init__(self, start_date, end_date):\n",
    "        self.start_date = start_date\n",
    "        self.end_date = end_date\n",
    "        self._range = self._create_range()\n",
    "\n",
    "    def _create_range(self):\n",
    "        days = []\n",
    "        current_day = self.start_date\n",
    "        while current_day < self.end_date:\n",
    "            days.append(current_day)\n",
    "            current_day += timedelta(days=1)\n",
    "        return days\n",
    "\n",
    "    def __getitem__(self, day_no):\n",
    "        return self._range[day_no]\n",
    "\n",
    "    def __len__(self):\n",
    "        return len(self._range)\n",
    "\n",
    "s1 = DateRangeSequence(date(2018,1,1), date(2018,1,5))\n",
    "for day in s1:\n",
    "    print(day)"
   ]
  },
  {
   "cell_type": "code",
   "execution_count": 9,
   "id": "b20a98f9-80c5-43ba-a5c9-43f088c86fac",
   "metadata": {},
   "outputs": [
    {
     "data": {
      "text/plain": [
       "datetime.date(2018, 1, 1)"
      ]
     },
     "execution_count": 9,
     "metadata": {},
     "output_type": "execute_result"
    }
   ],
   "source": [
    "s1[0]"
   ]
  },
  {
   "cell_type": "code",
   "execution_count": 10,
   "id": "265c9a23-0d51-4d6a-948e-86580feec5e8",
   "metadata": {},
   "outputs": [
    {
     "data": {
      "text/plain": [
       "datetime.date(2018, 1, 4)"
      ]
     },
     "execution_count": 10,
     "metadata": {},
     "output_type": "execute_result"
    }
   ],
   "source": [
    "s1[3]"
   ]
  },
  {
   "cell_type": "code",
   "execution_count": 11,
   "id": "3fac5207-de8c-4621-ba9a-e6f6ccde461a",
   "metadata": {},
   "outputs": [
    {
     "data": {
      "text/plain": [
       "datetime.date(2018, 1, 4)"
      ]
     },
     "execution_count": 11,
     "metadata": {},
     "output_type": "execute_result"
    }
   ],
   "source": [
    "s1[-1]"
   ]
  },
  {
   "cell_type": "code",
   "execution_count": null,
   "id": "2cd797f1-433e-4edb-af73-852401ffb72c",
   "metadata": {},
   "outputs": [],
   "source": []
  },
  {
   "cell_type": "code",
   "execution_count": null,
   "id": "4b30d04b-0cbf-4cad-9c8b-a5089f7fa2f9",
   "metadata": {},
   "outputs": [],
   "source": []
  }
 ],
 "metadata": {
  "kernelspec": {
   "display_name": "Python 3 (ipykernel)",
   "language": "python",
   "name": "python3"
  },
  "language_info": {
   "codemirror_mode": {
    "name": "ipython",
    "version": 3
   },
   "file_extension": ".py",
   "mimetype": "text/x-python",
   "name": "python",
   "nbconvert_exporter": "python",
   "pygments_lexer": "ipython3",
   "version": "3.12.3"
  }
 },
 "nbformat": 4,
 "nbformat_minor": 5
}
