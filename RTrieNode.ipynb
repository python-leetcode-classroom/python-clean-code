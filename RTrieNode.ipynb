{
 "cells": [
  {
   "cell_type": "code",
   "execution_count": 1,
   "id": "1de43c00-f853-430d-987b-35df145ce122",
   "metadata": {},
   "outputs": [
    {
     "name": "stdout",
     "output_type": "stream",
     "text": [
      "Help on class RTrieNode in module __main__:\n",
      "\n",
      "class RTrieNode(builtins.object)\n",
      " |  RTrieNode(value: int, next: List[ForwardRef('RTrieNode')] = <factory>) -> None\n",
      " |\n",
      " |  RTrieNode(value: int, next: List[ForwardRef('RTrieNode')] = <factory>)\n",
      " |\n",
      " |  Methods defined here:\n",
      " |\n",
      " |  __eq__(self, other)\n",
      " |      Return self==value.\n",
      " |\n",
      " |  __init__(self, value: int, next: List[ForwardRef('RTrieNode')] = <factory>) -> None\n",
      " |      Initialize self.  See help(type(self)) for accurate signature.\n",
      " |\n",
      " |  __post_init__(self)\n",
      " |\n",
      " |  __repr__(self)\n",
      " |      Return repr(self).\n",
      " |\n",
      " |  ----------------------------------------------------------------------\n",
      " |  Data descriptors defined here:\n",
      " |\n",
      " |  __dict__\n",
      " |      dictionary for instance variables\n",
      " |\n",
      " |  __weakref__\n",
      " |      list of weak references to the object\n",
      " |\n",
      " |  ----------------------------------------------------------------------\n",
      " |  Data and other attributes defined here:\n",
      " |\n",
      " |  __annotations__ = {'next': typing.List[ForwardRef('RTrieNode')], 'valu...\n",
      " |\n",
      " |  __dataclass_fields__ = {'next': Field(name='next',type=typing.List[For...\n",
      " |\n",
      " |  __dataclass_params__ = _DataclassParams(init=True,repr=True,eq=True,or...\n",
      " |\n",
      " |  __hash__ = None\n",
      " |\n",
      " |  __match_args__ = ('value', 'next')\n",
      " |\n",
      " |  size = 26\n",
      "\n"
     ]
    }
   ],
   "source": [
    "from typing import List\n",
    "from dataclasses import dataclass, field\n",
    "R = 26\n",
    "\n",
    "@dataclass\n",
    "class RTrieNode:\n",
    "    size = R\n",
    "    value: int\n",
    "    next: List[\"RTrieNode\"] = field(default_factory=lambda: [None] * R)\n",
    "\n",
    "    def __post_init__(self):\n",
    "        if len(self.next_) != self.size:\n",
    "            raise ValueError(f\"Invalid length provided for next list\")\n",
    "\n",
    "help(RTrieNode)"
   ]
  },
  {
   "cell_type": "code",
   "execution_count": null,
   "id": "dcf36125-00d8-4898-aad0-419b4417324e",
   "metadata": {},
   "outputs": [],
   "source": []
  }
 ],
 "metadata": {
  "kernelspec": {
   "display_name": "Python 3 (ipykernel)",
   "language": "python",
   "name": "python3"
  },
  "language_info": {
   "codemirror_mode": {
    "name": "ipython",
    "version": 3
   },
   "file_extension": ".py",
   "mimetype": "text/x-python",
   "name": "python",
   "nbconvert_exporter": "python",
   "pygments_lexer": "ipython3",
   "version": "3.12.3"
  }
 },
 "nbformat": 4,
 "nbformat_minor": 5
}
