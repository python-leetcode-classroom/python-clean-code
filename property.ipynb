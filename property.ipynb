{
 "cells": [
  {
   "cell_type": "code",
   "execution_count": 2,
   "id": "6ccb80b8-60d5-431d-bdc3-aa63a55a7fa5",
   "metadata": {},
   "outputs": [],
   "source": [
    "class Coordinate:\n",
    "    def __init__(self, lat: float, long: float) -> None:\n",
    "        self._latitude = self._longitude = None\n",
    "        self.latitude = lat\n",
    "        self.longitude = long\n",
    "\n",
    "    @property\n",
    "    def latitude(self) -> float:\n",
    "        return self._latitude\n",
    "    @latitude.setter\n",
    "    def latitude(self, lat_value: float) -> None:\n",
    "        if -90 <= lat_value <= 90:\n",
    "            self._latitude = lat_value\n",
    "        else:\n",
    "            raise ValueError(f\"{lat_value} is an invalid value for latitude\")\n",
    "\n",
    "    @property\n",
    "    def longitude(self) -> float:\n",
    "        return self._longitude\n",
    "    @longitude.setter\n",
    "    def longitude(self, long_value: float) -> None:\n",
    "        if -90 <= long_value <= 90:\n",
    "            self._longitude = long_value\n",
    "        else:\n",
    "            raise ValueError(f\"{long_value} is an invalid value for longitude\")\n",
    "\n",
    "\n",
    "coord = Coordinate(1,2)\n",
    "    "
   ]
  },
  {
   "cell_type": "code",
   "execution_count": 3,
   "id": "38046b64-06d3-4023-ac20-d6db10955572",
   "metadata": {},
   "outputs": [
    {
     "data": {
      "text/plain": [
       "<__main__.Coordinate at 0x7707a4299310>"
      ]
     },
     "execution_count": 3,
     "metadata": {},
     "output_type": "execute_result"
    }
   ],
   "source": [
    "coord"
   ]
  },
  {
   "cell_type": "code",
   "execution_count": 4,
   "id": "3e0bdda2-f7c5-4db7-8a06-1d683cb975d2",
   "metadata": {},
   "outputs": [
    {
     "data": {
      "text/plain": [
       "2"
      ]
     },
     "execution_count": 4,
     "metadata": {},
     "output_type": "execute_result"
    }
   ],
   "source": [
    "coord.longitude"
   ]
  },
  {
   "cell_type": "code",
   "execution_count": 5,
   "id": "a3ac0570-d056-477a-ac1d-eb3150888ba8",
   "metadata": {},
   "outputs": [
    {
     "data": {
      "text/plain": [
       "1"
      ]
     },
     "execution_count": 5,
     "metadata": {},
     "output_type": "execute_result"
    }
   ],
   "source": [
    "coord.latitude"
   ]
  },
  {
   "cell_type": "code",
   "execution_count": 6,
   "id": "9b0bdb6d-d818-47db-8037-c13e2668f0c5",
   "metadata": {
    "scrolled": true
   },
   "outputs": [
    {
     "ename": "ValueError",
     "evalue": "180 is an invalid value for longitude",
     "output_type": "error",
     "traceback": [
      "\u001b[31m---------------------------------------------------------------------------\u001b[39m",
      "\u001b[31mValueError\u001b[39m                                Traceback (most recent call last)",
      "\u001b[36mCell\u001b[39m\u001b[36m \u001b[39m\u001b[32mIn[6]\u001b[39m\u001b[32m, line 1\u001b[39m\n\u001b[32m----> \u001b[39m\u001b[32m1\u001b[39m \u001b[43mcoord\u001b[49m\u001b[43m.\u001b[49m\u001b[43mlongitude\u001b[49m = \u001b[32m180\u001b[39m\n",
      "\u001b[36mCell\u001b[39m\u001b[36m \u001b[39m\u001b[32mIn[2]\u001b[39m\u001b[32m, line 25\u001b[39m, in \u001b[36mCoordinate.longitude\u001b[39m\u001b[34m(self, long_value)\u001b[39m\n\u001b[32m     23\u001b[39m     \u001b[38;5;28mself\u001b[39m._longitude = long_value\n\u001b[32m     24\u001b[39m \u001b[38;5;28;01melse\u001b[39;00m:\n\u001b[32m---> \u001b[39m\u001b[32m25\u001b[39m     \u001b[38;5;28;01mraise\u001b[39;00m \u001b[38;5;167;01mValueError\u001b[39;00m(\u001b[33mf\u001b[39m\u001b[33m\"\u001b[39m\u001b[38;5;132;01m{\u001b[39;00mlong_value\u001b[38;5;132;01m}\u001b[39;00m\u001b[33m is an invalid value for longitude\u001b[39m\u001b[33m\"\u001b[39m)\n",
      "\u001b[31mValueError\u001b[39m: 180 is an invalid value for longitude"
     ]
    }
   ],
   "source": [
    "coord.longitude = 180"
   ]
  },
  {
   "cell_type": "code",
   "execution_count": 7,
   "id": "db4e8370-7280-4235-a5e2-c6bb31e3c3c4",
   "metadata": {},
   "outputs": [],
   "source": [
    "coord.longitude = 60"
   ]
  },
  {
   "cell_type": "code",
   "execution_count": null,
   "id": "10363f15-bfee-4b94-b6ce-3d7787235d8c",
   "metadata": {},
   "outputs": [],
   "source": []
  }
 ],
 "metadata": {
  "kernelspec": {
   "display_name": "Python 3 (ipykernel)",
   "language": "python",
   "name": "python3"
  },
  "language_info": {
   "codemirror_mode": {
    "name": "ipython",
    "version": 3
   },
   "file_extension": ".py",
   "mimetype": "text/x-python",
   "name": "python",
   "nbconvert_exporter": "python",
   "pygments_lexer": "ipython3",
   "version": "3.12.3"
  }
 },
 "nbformat": 4,
 "nbformat_minor": 5
}
