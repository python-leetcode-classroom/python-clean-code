{
 "cells": [
  {
   "cell_type": "code",
   "execution_count": 1,
   "id": "64e2c931-e9fb-4853-928f-9daee8f52c9d",
   "metadata": {},
   "outputs": [],
   "source": [
    "class BaseTokenizer:\n",
    "    def __init__(self, str_token):\n",
    "        self.str_token = str_token\n",
    "    def __iter__(self):\n",
    "        yield from self.str_token.split(\"-\")\n",
    "\n",
    "tk = BaseTokenizer(\"ce4b9b8f-149c-4552-955c-2f99606a4941\")"
   ]
  },
  {
   "cell_type": "code",
   "execution_count": 2,
   "id": "4813bd73-303f-4a70-8611-3e3134d8be20",
   "metadata": {},
   "outputs": [
    {
     "data": {
      "text/plain": [
       "['ce4b9b8f', '149c', '4552', '955c', '2f99606a4941']"
      ]
     },
     "execution_count": 2,
     "metadata": {},
     "output_type": "execute_result"
    }
   ],
   "source": [
    "list(tk)"
   ]
  },
  {
   "cell_type": "code",
   "execution_count": 5,
   "id": "623054e8-9f7b-4106-9d90-95a4b2e8e712",
   "metadata": {},
   "outputs": [],
   "source": [
    "class UpperIterableMixin:\n",
    "    def __iter__(self):\n",
    "        return map(str.upper, super().__iter__())\n",
    "\n",
    "class Tokenizer(UpperIterableMixin, BaseTokenizer):\n",
    "    pass\n",
    "\n",
    "utk = Tokenizer(\"ce4b9b8f-149c-4552-955c-2f99606a4941\")"
   ]
  },
  {
   "cell_type": "code",
   "execution_count": 6,
   "id": "4c0e7249-4798-482f-a089-7efd061ed15d",
   "metadata": {},
   "outputs": [
    {
     "data": {
      "text/plain": [
       "['CE4B9B8F', '149C', '4552', '955C', '2F99606A4941']"
      ]
     },
     "execution_count": 6,
     "metadata": {},
     "output_type": "execute_result"
    }
   ],
   "source": [
    "list(utk)"
   ]
  },
  {
   "cell_type": "code",
   "execution_count": null,
   "id": "5ed64cdf-78c1-4695-9757-d07aca37d2d3",
   "metadata": {},
   "outputs": [],
   "source": []
  }
 ],
 "metadata": {
  "kernelspec": {
   "display_name": "Python 3 (ipykernel)",
   "language": "python",
   "name": "python3"
  },
  "language_info": {
   "codemirror_mode": {
    "name": "ipython",
    "version": 3
   },
   "file_extension": ".py",
   "mimetype": "text/x-python",
   "name": "python",
   "nbconvert_exporter": "python",
   "pygments_lexer": "ipython3",
   "version": "3.12.3"
  }
 },
 "nbformat": 4,
 "nbformat_minor": 5
}
