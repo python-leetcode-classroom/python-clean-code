{
 "cells": [
  {
   "cell_type": "code",
   "execution_count": 7,
   "id": "e04375e3-fd8e-40ae-9696-84f3f91d4dc7",
   "metadata": {},
   "outputs": [
    {
     "data": {
      "text/plain": [
       "Point(lat=1, long=2)"
      ]
     },
     "execution_count": 7,
     "metadata": {},
     "output_type": "execute_result"
    }
   ],
   "source": [
    "from dataclasses import dataclass\n",
    "\n",
    "@dataclass\n",
    "class Point:\n",
    "    lat: float\n",
    "    long: float\n",
    "\n",
    "Point.__annotations__\n",
    "Point(1,2)"
   ]
  },
  {
   "cell_type": "code",
   "execution_count": 9,
   "id": "470e34e2-4249-4a99-9050-ab70c2a9bd74",
   "metadata": {},
   "outputs": [
    {
     "name": "stdout",
     "output_type": "stream",
     "text": [
      "Collecting mypy\n",
      "  Downloading mypy-1.15.0-cp312-cp312-manylinux_2_17_x86_64.manylinux2014_x86_64.manylinux_2_28_x86_64.whl.metadata (2.1 kB)\n",
      "Requirement already satisfied: typing_extensions>=4.6.0 in ./py_envs/lib/python3.12/site-packages (from mypy) (4.13.2)\n",
      "Collecting mypy_extensions>=1.0.0 (from mypy)\n",
      "  Downloading mypy_extensions-1.1.0-py3-none-any.whl.metadata (1.1 kB)\n",
      "Downloading mypy-1.15.0-cp312-cp312-manylinux_2_17_x86_64.manylinux2014_x86_64.manylinux_2_28_x86_64.whl (12.4 MB)\n",
      "\u001b[2K   \u001b[38;2;114;156;31m━━━━━━━━━━━━━━━━━━━━━━━━━━━━━━━━━━━━━━━━\u001b[0m \u001b[32m12.4/12.4 MB\u001b[0m \u001b[31m3.5 MB/s\u001b[0m eta \u001b[36m0:00:00\u001b[0mm eta \u001b[36m0:00:01\u001b[0m[36m0:00:01\u001b[0m\n",
      "\u001b[?25hDownloading mypy_extensions-1.1.0-py3-none-any.whl (5.0 kB)\n",
      "Installing collected packages: mypy_extensions, mypy\n",
      "Successfully installed mypy-1.15.0 mypy_extensions-1.1.0\n",
      "Note: you may need to restart the kernel to use updated packages.\n"
     ]
    }
   ],
   "source": [
    "pip install mypy"
   ]
  },
  {
   "cell_type": "code",
   "execution_count": 13,
   "id": "25d9b7d7-ca98-450a-a490-8c9534b34ed3",
   "metadata": {},
   "outputs": [
    {
     "name": "stdout",
     "output_type": "stream",
     "text": [
      "Collecting pylint\n",
      "  Downloading pylint-3.3.7-py3-none-any.whl.metadata (12 kB)\n",
      "Collecting astroid<=3.4.0.dev0,>=3.3.8 (from pylint)\n",
      "  Downloading astroid-3.3.10-py3-none-any.whl.metadata (4.4 kB)\n",
      "Collecting dill>=0.3.6 (from pylint)\n",
      "  Downloading dill-0.4.0-py3-none-any.whl.metadata (10 kB)\n",
      "Collecting isort!=5.13,<7,>=4.2.5 (from pylint)\n",
      "  Downloading isort-6.0.1-py3-none-any.whl.metadata (11 kB)\n",
      "Collecting mccabe<0.8,>=0.6 (from pylint)\n",
      "  Downloading mccabe-0.7.0-py2.py3-none-any.whl.metadata (5.0 kB)\n",
      "Requirement already satisfied: platformdirs>=2.2 in ./py_envs/lib/python3.12/site-packages (from pylint) (4.3.8)\n",
      "Collecting tomlkit>=0.10.1 (from pylint)\n",
      "  Downloading tomlkit-0.13.2-py3-none-any.whl.metadata (2.7 kB)\n",
      "Downloading pylint-3.3.7-py3-none-any.whl (522 kB)\n",
      "\u001b[2K   \u001b[38;2;114;156;31m━━━━━━━━━━━━━━━━━━━━━━━━━━━━━━━━━━━━━━━\u001b[0m \u001b[32m522.6/522.6 kB\u001b[0m \u001b[31m252.2 kB/s\u001b[0m eta \u001b[36m0:00:00\u001b[0mm eta \u001b[36m0:00:01\u001b[0m0:01\u001b[0m:01\u001b[0m\n",
      "\u001b[?25hDownloading astroid-3.3.10-py3-none-any.whl (275 kB)\n",
      "\u001b[2K   \u001b[38;2;114;156;31m━━━━━━━━━━━━━━━━━━━━━━━━━━━━━━━━━━━━━━━\u001b[0m \u001b[32m275.4/275.4 kB\u001b[0m \u001b[31m392.1 kB/s\u001b[0m eta \u001b[36m0:00:00\u001b[0m1m475.7 kB/s\u001b[0m eta \u001b[36m0:00:01\u001b[0m\n",
      "\u001b[?25hDownloading dill-0.4.0-py3-none-any.whl (119 kB)\n",
      "\u001b[2K   \u001b[38;2;114;156;31m━━━━━━━━━━━━━━━━━━━━━━━━━━━━━━━━━━━━━━━\u001b[0m \u001b[32m119.7/119.7 kB\u001b[0m \u001b[31m238.7 kB/s\u001b[0m eta \u001b[36m0:00:00\u001b[0m1m874.2 kB/s\u001b[0m eta \u001b[36m0:00:01\u001b[0m\n",
      "\u001b[?25hDownloading isort-6.0.1-py3-none-any.whl (94 kB)\n",
      "\u001b[2K   \u001b[38;2;114;156;31m━━━━━━━━━━━━━━━━━━━━━━━━━━━━━━━━━━━━━━━━\u001b[0m \u001b[32m94.2/94.2 kB\u001b[0m \u001b[31m392.8 kB/s\u001b[0m eta \u001b[36m0:00:00\u001b[0m[36m0:00:01\u001b[0m[36m0:00:01\u001b[0m\n",
      "\u001b[?25hDownloading mccabe-0.7.0-py2.py3-none-any.whl (7.3 kB)\n",
      "Downloading tomlkit-0.13.2-py3-none-any.whl (37 kB)\n",
      "Installing collected packages: tomlkit, mccabe, isort, dill, astroid, pylint\n",
      "Successfully installed astroid-3.3.10 dill-0.4.0 isort-6.0.1 mccabe-0.7.0 pylint-3.3.7 tomlkit-0.13.2\n",
      "Note: you may need to restart the kernel to use updated packages.\n"
     ]
    }
   ],
   "source": [
    "pip install pylint"
   ]
  },
  {
   "cell_type": "code",
   "execution_count": null,
   "id": "9108543c-ad03-4c44-a01f-4d1e805b8e4a",
   "metadata": {},
   "outputs": [],
   "source": []
  }
 ],
 "metadata": {
  "kernelspec": {
   "display_name": "Python 3 (ipykernel)",
   "language": "python",
   "name": "python3"
  },
  "language_info": {
   "codemirror_mode": {
    "name": "ipython",
    "version": 3
   },
   "file_extension": ".py",
   "mimetype": "text/x-python",
   "name": "python",
   "nbconvert_exporter": "python",
   "pygments_lexer": "ipython3",
   "version": "3.12.3"
  }
 },
 "nbformat": 4,
 "nbformat_minor": 5
}
