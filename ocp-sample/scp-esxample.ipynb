{
 "cells": [
  {
   "cell_type": "code",
   "execution_count": 10,
   "id": "dc33210d-d7c0-4db8-a8e8-6823b359891c",
   "metadata": {},
   "outputs": [],
   "source": [
    "class Event:\n",
    "    def __init__(self, raw_data):\n",
    "        self.raw_data = raw_data\n",
    "\n",
    "    @staticmethod\n",
    "    def meets_condition(event_data: dict) -> bool:\n",
    "        return False\n",
    "\n",
    "class UnknownEvent(Event):\n",
    "    \"\"\"A type of event that cannot be identified from its data\"\"\"\n",
    "\n",
    "class LoginEvent(Event):\n",
    "    @staticmethod\n",
    "    def meets_condition(event_data: dict) -> bool:\n",
    "        return (\n",
    "            event_data[\"before\"][\"session\"] == 0\n",
    "            and event_data[\"after\"][\"session\"] == 1\n",
    "        )\n",
    "\n",
    "class LogoutEvent(Event):\n",
    "   @staticmethod\n",
    "   def meets_condition(event_data: dict) -> bool:\n",
    "        return (\n",
    "            event_data[\"before\"][\"session\"] == 1\n",
    "            and event_data[\"after\"][\"session\"] == 0\n",
    "        )\n",
    "\n",
    "class SystemMonitor:\n",
    "    \"\"\"Identify events that occured in the system.\"\"\"\n",
    "    def __init__(self, event_data):\n",
    "        self.event_data = event_data\n",
    "\n",
    "    def identify_event(self):\n",
    "        for event_cls in Event.__subclasses__():\n",
    "            try:\n",
    "                if event_cls.meets_condition(self.event_data):\n",
    "                    return event_cls(self.event_data)\n",
    "            except KeyError:\n",
    "                continue\n",
    "        return UnknownEvent(self.event_data)\n",
    "\n",
    "class TransactionEvent(Event):\n",
    "    \"\"\"Represents a transaction that has just occurred on the system.\"\"\"\n",
    "\n",
    "    @staticmethod\n",
    "    def meets_condition(event_data: dict) -> bool:\n",
    "        return event_data[\"after\"].get(\"transaction\") is not None\n",
    "\n",
    "L1 = SystemMonitor({\"before\": {\"session\": 0}, \"after\": {\"session\": 1}})"
   ]
  },
  {
   "cell_type": "code",
   "execution_count": 11,
   "id": "6ddeda6e-ac59-436f-b8b9-734177f5f62a",
   "metadata": {},
   "outputs": [
    {
     "data": {
      "text/plain": [
       "'LoginEvent'"
      ]
     },
     "execution_count": 11,
     "metadata": {},
     "output_type": "execute_result"
    }
   ],
   "source": [
    "L1.identify_event().__class__.__name__"
   ]
  },
  {
   "cell_type": "code",
   "execution_count": 12,
   "id": "29711a44-65cf-4777-8321-6cb0430b261f",
   "metadata": {},
   "outputs": [],
   "source": [
    "L2 = SystemMonitor({\"before\": {\"session\": 1}, \"after\": {\"session\": 0}})"
   ]
  },
  {
   "cell_type": "code",
   "execution_count": 13,
   "id": "2d57d8c2-14ba-4125-93a9-0acee97bd662",
   "metadata": {},
   "outputs": [
    {
     "data": {
      "text/plain": [
       "'LogoutEvent'"
      ]
     },
     "execution_count": 13,
     "metadata": {},
     "output_type": "execute_result"
    }
   ],
   "source": [
    "L2.identify_event().__class__.__name__"
   ]
  },
  {
   "cell_type": "code",
   "execution_count": 14,
   "id": "f06b52bd-1230-4ed6-bf15-8c5b787a7460",
   "metadata": {},
   "outputs": [],
   "source": [
    "L3 = SystemMonitor({\"before\": {\"session\": 1}, \"after\": {\"session\": 1}})"
   ]
  },
  {
   "cell_type": "code",
   "execution_count": 15,
   "id": "fa380e9d-2059-49a5-a84f-e8ec50df7efc",
   "metadata": {},
   "outputs": [
    {
     "data": {
      "text/plain": [
       "'UnknownEvent'"
      ]
     },
     "execution_count": 15,
     "metadata": {},
     "output_type": "execute_result"
    }
   ],
   "source": [
    "L3.identify_event().__class__.__name__"
   ]
  },
  {
   "cell_type": "code",
   "execution_count": 16,
   "id": "6b3e311d-d2f8-46e9-932e-fd700eb2f746",
   "metadata": {},
   "outputs": [],
   "source": [
    "L4 = SystemMonitor( {\"after\": {\"transaction\":\"TX001\"}})"
   ]
  },
  {
   "cell_type": "code",
   "execution_count": 17,
   "id": "a93a2b02-28fd-49c8-b7fa-34c306ecdaa4",
   "metadata": {},
   "outputs": [
    {
     "data": {
      "text/plain": [
       "'TransactionEvent'"
      ]
     },
     "execution_count": 17,
     "metadata": {},
     "output_type": "execute_result"
    }
   ],
   "source": [
    "L4.identify_event().__class__.__name__"
   ]
  },
  {
   "cell_type": "code",
   "execution_count": null,
   "id": "014e89eb-2047-45d8-9d0e-2923abafdfa7",
   "metadata": {},
   "outputs": [],
   "source": []
  }
 ],
 "metadata": {
  "kernelspec": {
   "display_name": "Python 3 (ipykernel)",
   "language": "python",
   "name": "python3"
  },
  "language_info": {
   "codemirror_mode": {
    "name": "ipython",
    "version": 3
   },
   "file_extension": ".py",
   "mimetype": "text/x-python",
   "name": "python",
   "nbconvert_exporter": "python",
   "pygments_lexer": "ipython3",
   "version": "3.12.3"
  }
 },
 "nbformat": 4,
 "nbformat_minor": 5
}
