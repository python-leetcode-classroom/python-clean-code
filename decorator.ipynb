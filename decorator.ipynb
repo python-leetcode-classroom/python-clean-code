{
 "cells": [
  {
   "cell_type": "markdown",
   "id": "d73bf99e-8481-465f-bdc0-50d970e40760",
   "metadata": {},
   "source": [
    "# Decorator Sample 1"
   ]
  },
  {
   "cell_type": "code",
   "execution_count": 10,
   "id": "25772386-23bc-4a6e-9c77-a0a9b676dcfb",
   "metadata": {},
   "outputs": [],
   "source": [
    "from dataclasses import dataclass\n",
    "import datetime\n",
    "\n",
    "def hide_field(field) -> str:\n",
    "    return \"**redacted**\"\n",
    "\n",
    "def format_time(field_timestamp: datetime) -> str:\n",
    "    return field_timestamp.strftime(\"%Y-%m-%d %H:%M\")\n",
    "\n",
    "def show_original(event_field):\n",
    "    return event_field\n",
    "\n",
    "\n",
    "class EventSerializer:\n",
    "    def __init__(self, serialization_fields: dict) -> None:\n",
    "        self.serialization_fields = serialization_fields\n",
    "\n",
    "    def serialize(self, event) -> dict:\n",
    "        return {\n",
    "            field: transformation(getattr(event, field))\n",
    "            for field, transformation\n",
    "            in self.serialization_fields.items()\n",
    "        }\n",
    "\n",
    "class Serialization:\n",
    "    def __init__(self, **transformations):\n",
    "        self.serializer = EventSerializer(transformations)\n",
    "\n",
    "    def __call__(self, event_class):\n",
    "        def serialize_method(event_instance):\n",
    "            return self.serializer.serialize(event_instance)\n",
    "\n",
    "        event_class.serialize = serialize_method\n",
    "        return event_class\n",
    "\n",
    "@Serialization(\n",
    "    username=str.lower,\n",
    "    password=hide_field,\n",
    "    ip=show_original,\n",
    "    timestamp=format_time,\n",
    ")\n",
    "@dataclass\n",
    "class LoginFormat:\n",
    "    username: str\n",
    "    password: str\n",
    "    ip: str\n",
    "    timestamp: datetime\n"
   ]
  },
  {
   "cell_type": "raw",
   "id": "ca94b7dc-10fd-46da-ae9e-87cdcf77cf78",
   "metadata": {},
   "source": [
    "# Decorator should with wrap hint"
   ]
  },
  {
   "cell_type": "code",
   "execution_count": 12,
   "id": "0b58d653-fdee-441c-99a3-d3d0001140c2",
   "metadata": {},
   "outputs": [
    {
     "name": "stdout",
     "output_type": "stream",
     "text": [
      "Help on function process_account in module __main__:\n",
      "\n",
      "process_account(acount_id: str)\n",
      "    Process an account by ID.\n",
      "\n"
     ]
    }
   ],
   "source": [
    "from functools import wraps\n",
    "def trace_decorator(function):\n",
    "    @wraps(function)\n",
    "    def wrapped(*args, **kwargs):\n",
    "        #logger.info(\"running %s\", function.__qualname__)\n",
    "        #...\n",
    "        return function(*args, **kwargs)\n",
    "\n",
    "    return wrapped\n",
    "    \n",
    "@trace_decorator\n",
    "def process_account(acount_id: str):\n",
    "    \"\"\"Process an account by ID. \"\"\"\n",
    "    #...\n",
    "\n",
    "help(process_account)"
   ]
  },
  {
   "cell_type": "code",
   "execution_count": null,
   "id": "a1f8f5c8-9781-4b73-81b1-12b5fa9be6ae",
   "metadata": {},
   "outputs": [],
   "source": []
  }
 ],
 "metadata": {
  "kernelspec": {
   "display_name": "Python 3 (ipykernel)",
   "language": "python",
   "name": "python3"
  },
  "language_info": {
   "codemirror_mode": {
    "name": "ipython",
    "version": 3
   },
   "file_extension": ".py",
   "mimetype": "text/x-python",
   "name": "python",
   "nbconvert_exporter": "python",
   "pygments_lexer": "ipython3",
   "version": "3.12.3"
  }
 },
 "nbformat": 4,
 "nbformat_minor": 5
}
