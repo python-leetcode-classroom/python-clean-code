{
 "cells": [
  {
   "cell_type": "code",
   "execution_count": 4,
   "id": "72e4c7dd-634d-4d82-8227-db223acc2c96",
   "metadata": {},
   "outputs": [
    {
     "data": {
      "text/plain": [
       "'6.0'"
      ]
     },
     "execution_count": 4,
     "metadata": {},
     "output_type": "execute_result"
    }
   ],
   "source": [
    "def calculate_price(base_price: float, tax: float, discount: float) -> float:\n",
    "    return (base_price * (1 + tax)) * (1 - discount)\n",
    "\n",
    "def show_price(price: float) -> str:\n",
    "    return \"$ {0:,.2f}\".format(price)\n",
    "\n",
    "def str_final_price(\n",
    "    base_price: float, tax: float, discount: float, fmt_function=str\n",
    ") -> str:\n",
    "    return fmt_function(calculate_price(base_price, tax, discount))\n",
    "\n",
    "str_final_price(10, 0.2, 0.5)"
   ]
  },
  {
   "cell_type": "code",
   "execution_count": 5,
   "id": "d651dc31-1c6c-49b4-b6d3-cbed741b064a",
   "metadata": {},
   "outputs": [
    {
     "data": {
      "text/plain": [
       "'1200.0'"
      ]
     },
     "execution_count": 5,
     "metadata": {},
     "output_type": "execute_result"
    }
   ],
   "source": [
    "str_final_price(1000, 0.2, 0)"
   ]
  },
  {
   "cell_type": "code",
   "execution_count": null,
   "id": "4b632bee-e990-4332-94bd-fa61e3e68139",
   "metadata": {},
   "outputs": [],
   "source": [
    "str_final_price()"
   ]
  }
 ],
 "metadata": {
  "kernelspec": {
   "display_name": "Python 3 (ipykernel)",
   "language": "python",
   "name": "python3"
  },
  "language_info": {
   "codemirror_mode": {
    "name": "ipython",
    "version": 3
   },
   "file_extension": ".py",
   "mimetype": "text/x-python",
   "name": "python",
   "nbconvert_exporter": "python",
   "pygments_lexer": "ipython3",
   "version": "3.12.3"
  }
 },
 "nbformat": 4,
 "nbformat_minor": 5
}
